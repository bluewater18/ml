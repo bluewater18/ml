{
 "cells": [
  {
   "cell_type": "markdown",
   "source": [
    "# 401 Assignment 1"
   ],
   "metadata": {
    "collapsed": false,
    "pycharm": {
     "name": "#%% md\n"
    }
   }
  },
  {
   "cell_type": "markdown",
   "source": [
    "## 1 Tuning Hyper-parameters"
   ],
   "metadata": {
    "collapsed": false,
    "pycharm": {
     "name": "#%% md\n"
    }
   }
  },
  {
   "cell_type": "code",
   "execution_count": 775,
   "outputs": [],
   "source": [
    "#imports\n",
    "import numpy as np\n",
    "from sklearn.metrics import accuracy_score\n",
    "import matplotlib.pyplot as plt\n",
    "import random\n",
    "import pandas as pd\n",
    "from sklearn import datasets, tree, linear_model\n",
    "from sklearn.model_selection import train_test_split, KFold\n",
    "from IPython.display import display\n",
    "from sklearn.preprocessing import StandardScaler\n",
    "from sklearn.tree import DecisionTreeClassifier, plot_tree\n",
    "from sklearn.linear_model import SGDClassifier"
   ],
   "metadata": {
    "collapsed": false,
    "pycharm": {
     "name": "#%%\n",
     "is_executing": false
    }
   }
  },
  {
   "cell_type": "markdown",
   "source": [
    "Several helper functions were created:\n",
    "- get_average \n",
    " - Simply returns the average result of a list\n",
    "- scale_data\n",
    " - A small wrapper function for scaling data appropriately using sklearn's StandardScaler\n",
    "- is_improvement\n",
    " - A function that calculates if the next iteration of the max_depth is a valid improvement. The formula requires that for any 1 increase in the average number of nodes, there should be at least a 1% in accuracy."
   ],
   "metadata": {
    "collapsed": false,
    "pycharm": {
     "name": "#%% md\n"
    }
   }
  },
  {
   "cell_type": "code",
   "execution_count": 776,
   "outputs": [],
   "source": [
    "# helper functions\n",
    "\n",
    "def get_average(arr):#returns the average of a python list\n",
    "    s = 0\n",
    "    for a in arr:\n",
    "        s = s + a\n",
    "    avg = s/len(arr)\n",
    "    return avg\n",
    "\n",
    "def scale_data(xtrain, xtest):#scales data using sklearns standard scaler\n",
    "    feature_scaler = StandardScaler()\n",
    "    return feature_scaler.fit_transform(xtrain), feature_scaler.transform(xtest)\n",
    "\n",
    "def is_improvement(prev_accuracy, prev_num_nodes, current_accuracy, current_num_nodes):\n",
    "    if (prev_accuracy is 0) and (prev_num_nodes is 0):\n",
    "        return True\n",
    "    prev_accuracy = prev_accuracy*100\n",
    "    current_accuracy = current_accuracy*100\n",
    "    accuracy_improvement = current_accuracy - prev_accuracy\n",
    "    if accuracy_improvement<=0:\n",
    "        return False\n",
    "    node_delta = current_num_nodes - prev_num_nodes\n",
    "    if accuracy_improvement < node_delta:\n",
    "        return False\n",
    "    return True\n",
    "    "
   ],
   "metadata": {
    "collapsed": false,
    "pycharm": {
     "name": "#%% \n",
     "is_executing": false
    }
   }
  },
  {
   "cell_type": "markdown",
   "source": [
    "The k-fold cross validation was contained within a method.<br/>\n",
    "This method takes the training data, as well as some optional parameters relating to the k-fold itself <br/>\n",
    "The method works through max depths of 1 to 15<br/>\n",
    "to achieve this the method runs a for loop through each depth in which it defines a new DecisionTreeClasifier. This DT is then KFolded and each set of test and training data within the k-fold is fitted to the tree, with the accuracy and number of nodes recorded. <br/>\n",
    "For each max depth this is average and used to check if the classifier is a valid improvement.<br>\n",
    "The method finally displays a dataframe and returns the best classifier"
   ],
   "metadata": {
    "collapsed": false
   }
  },
  {
   "cell_type": "code",
   "execution_count": 777,
   "outputs": [],
   "source": [
    "#KFold CV Method\n",
    "def run_KFold_CV(XTrainKF, yTrainKF, n_splits=6, random_state = 0, shuffle = False):\n",
    "    df = pd.DataFrame(columns=['Max_Tree_Depth', 'Average_Accuracy', 'Average_Node_Count'])\n",
    "    depths = [1,2,3,4,5,6,7,8,9,10,11,12,13,14,15]\n",
    "    prev_avg_accuracy = 0\n",
    "    prev_num_nodes = 0\n",
    "    for depth in depths:\n",
    "        kf_tree = tree.DecisionTreeClassifier(max_depth=depth)\n",
    "        kf = KFold(n_splits=n_splits, random_state=random_state, shuffle=shuffle)\n",
    "        accuracy = []\n",
    "        num_nodes = []\n",
    "        for train_index, test_index in kf.split(XTrainKF):\n",
    "            x_train, x_test = XTrainKF[train_index], XTrainKF[test_index]\n",
    "            y_train, y_test = yTrainKF[train_index], yTrainKF[test_index]\n",
    "            kf_tree = kf_tree.fit(x_train, y_train)\n",
    "            predictions = kf_tree.predict(x_test)\n",
    "            accuracy.append(kf_tree.score(x_test, y_test))\n",
    "            num_nodes.append(kf_tree.tree_.node_count)\n",
    "            acc_avg = get_average(accuracy)\n",
    "            num_nodes_avg = get_average(num_nodes)\n",
    "        df = df.append({'Max_Tree_Depth':depth, 'Average_Accuracy':acc_avg, 'Average_Node_Count': num_nodes_avg}, ignore_index=True)\n",
    "        if is_improvement(prev_avg_accuracy, prev_num_nodes, acc_avg, num_nodes_avg):\n",
    "            prev_avg_accuracy, prev_num_nodes = acc_avg, num_nodes_avg\n",
    "            best_depth = depth\n",
    "            best_tree = kf_tree\n",
    "    display(df)\n",
    "    print(\"The best classifier was found with depth \", best_depth)\n",
    "    return best_tree\n",
    "\n",
    "def test_best_tree(best_tree, x_test, y_test):\n",
    "    predictions = best_tree.predict(x_test)\n",
    "    accuracy = best_tree.score(x_test, y_test)\n",
    "    print(\"The best classifier achieved an accuracy of \", accuracy, \" on the test data\")\n",
    " "
   ],
   "metadata": {
    "collapsed": false,
    "pycharm": {
     "name": "#%%\n",
     "is_executing": false
    }
   }
  },
  {
   "cell_type": "markdown",
   "source": [
    "### Iris plant recognition"
   ],
   "metadata": {
    "collapsed": false
   }
  },
  {
   "cell_type": "code",
   "execution_count": 778,
   "outputs": [
    {
     "data": {
      "text/plain": "    Max_Tree_Depth  Average_Accuracy  Average_Node_Count\n0              1.0          0.611111            3.000000\n1              2.0          0.943355            5.000000\n2              3.0          0.961874            8.333333\n3              4.0          0.942810           11.333333\n4              5.0          0.942810           11.666667\n5              6.0          0.952070           11.333333\n6              7.0          0.942810           11.666667\n7              8.0          0.942810           11.333333\n8              9.0          0.942810           11.666667\n9             10.0          0.942810           11.666667\n10            11.0          0.952070           11.333333\n11            12.0          0.942810           11.333333\n12            13.0          0.952070           11.333333\n13            14.0          0.942810           11.666667\n14            15.0          0.942810           11.666667",
      "text/html": "<div>\n<style scoped>\n    .dataframe tbody tr th:only-of-type {\n        vertical-align: middle;\n    }\n\n    .dataframe tbody tr th {\n        vertical-align: top;\n    }\n\n    .dataframe thead th {\n        text-align: right;\n    }\n</style>\n<table border=\"1\" class=\"dataframe\">\n  <thead>\n    <tr style=\"text-align: right;\">\n      <th></th>\n      <th>Max_Tree_Depth</th>\n      <th>Average_Accuracy</th>\n      <th>Average_Node_Count</th>\n    </tr>\n  </thead>\n  <tbody>\n    <tr>\n      <th>0</th>\n      <td>1.0</td>\n      <td>0.611111</td>\n      <td>3.000000</td>\n    </tr>\n    <tr>\n      <th>1</th>\n      <td>2.0</td>\n      <td>0.943355</td>\n      <td>5.000000</td>\n    </tr>\n    <tr>\n      <th>2</th>\n      <td>3.0</td>\n      <td>0.961874</td>\n      <td>8.333333</td>\n    </tr>\n    <tr>\n      <th>3</th>\n      <td>4.0</td>\n      <td>0.942810</td>\n      <td>11.333333</td>\n    </tr>\n    <tr>\n      <th>4</th>\n      <td>5.0</td>\n      <td>0.942810</td>\n      <td>11.666667</td>\n    </tr>\n    <tr>\n      <th>5</th>\n      <td>6.0</td>\n      <td>0.952070</td>\n      <td>11.333333</td>\n    </tr>\n    <tr>\n      <th>6</th>\n      <td>7.0</td>\n      <td>0.942810</td>\n      <td>11.666667</td>\n    </tr>\n    <tr>\n      <th>7</th>\n      <td>8.0</td>\n      <td>0.942810</td>\n      <td>11.333333</td>\n    </tr>\n    <tr>\n      <th>8</th>\n      <td>9.0</td>\n      <td>0.942810</td>\n      <td>11.666667</td>\n    </tr>\n    <tr>\n      <th>9</th>\n      <td>10.0</td>\n      <td>0.942810</td>\n      <td>11.666667</td>\n    </tr>\n    <tr>\n      <th>10</th>\n      <td>11.0</td>\n      <td>0.952070</td>\n      <td>11.333333</td>\n    </tr>\n    <tr>\n      <th>11</th>\n      <td>12.0</td>\n      <td>0.942810</td>\n      <td>11.333333</td>\n    </tr>\n    <tr>\n      <th>12</th>\n      <td>13.0</td>\n      <td>0.952070</td>\n      <td>11.333333</td>\n    </tr>\n    <tr>\n      <th>13</th>\n      <td>14.0</td>\n      <td>0.942810</td>\n      <td>11.666667</td>\n    </tr>\n    <tr>\n      <th>14</th>\n      <td>15.0</td>\n      <td>0.942810</td>\n      <td>11.666667</td>\n    </tr>\n  </tbody>\n</table>\n</div>"
     },
     "metadata": {},
     "output_type": "display_data"
    },
    {
     "name": "stdout",
     "text": [
      "The best classifier was found with depth  2\nThe best classifier achieved an accuracy of  0.9111111111111111  on the test data\n"
     ],
     "output_type": "stream"
    }
   ],
   "source": [
    "# Iris plant recognition  \n",
    "iris = datasets.load_iris()\n",
    "iris_X = iris.data\n",
    "iris_Y = iris.target\n",
    "\n",
    "iris_X_train, iris_X_test, iris_y_train, iris_y_test = train_test_split(iris_X, iris_Y, test_size=0.3, random_state=0)\n",
    "iris_X_train, iris_X_test = scale_data(iris_X_train, iris_X_test)\n",
    "\n",
    "iris_best_tree = run_KFold_CV(iris_X_train, iris_y_train)\n",
    "test_best_tree(iris_best_tree, iris_X_test, iris_y_test)"
   ],
   "metadata": {
    "collapsed": false,
    "pycharm": {
     "name": "#%%\n",
     "is_executing": false
    }
   }
  },
  {
   "cell_type": "markdown",
   "source": [
    "### Breast cancer diagnosis"
   ],
   "metadata": {
    "collapsed": false,
    "pycharm": {
     "name": "#%% md\n"
    }
   }
  },
  {
   "cell_type": "code",
   "execution_count": 779,
   "outputs": [
    {
     "data": {
      "text/plain": "    Max_Tree_Depth  Average_Accuracy  Average_Node_Count\n0              1.0          0.909543            3.000000\n1              2.0          0.907131            7.000000\n2              3.0          0.922169           14.000000\n3              4.0          0.922207           21.000000\n4              5.0          0.922245           26.000000\n5              6.0          0.922132           28.666667\n6              7.0          0.914707           30.000000\n7              8.0          0.917194           30.333333\n8              9.0          0.912144           30.000000\n9             10.0          0.907131           30.000000\n10            11.0          0.912182           30.333333\n11            12.0          0.924695           30.333333\n12            13.0          0.922132           30.000000\n13            14.0          0.912182           30.000000\n14            15.0          0.904568           30.333333",
      "text/html": "<div>\n<style scoped>\n    .dataframe tbody tr th:only-of-type {\n        vertical-align: middle;\n    }\n\n    .dataframe tbody tr th {\n        vertical-align: top;\n    }\n\n    .dataframe thead th {\n        text-align: right;\n    }\n</style>\n<table border=\"1\" class=\"dataframe\">\n  <thead>\n    <tr style=\"text-align: right;\">\n      <th></th>\n      <th>Max_Tree_Depth</th>\n      <th>Average_Accuracy</th>\n      <th>Average_Node_Count</th>\n    </tr>\n  </thead>\n  <tbody>\n    <tr>\n      <th>0</th>\n      <td>1.0</td>\n      <td>0.909543</td>\n      <td>3.000000</td>\n    </tr>\n    <tr>\n      <th>1</th>\n      <td>2.0</td>\n      <td>0.907131</td>\n      <td>7.000000</td>\n    </tr>\n    <tr>\n      <th>2</th>\n      <td>3.0</td>\n      <td>0.922169</td>\n      <td>14.000000</td>\n    </tr>\n    <tr>\n      <th>3</th>\n      <td>4.0</td>\n      <td>0.922207</td>\n      <td>21.000000</td>\n    </tr>\n    <tr>\n      <th>4</th>\n      <td>5.0</td>\n      <td>0.922245</td>\n      <td>26.000000</td>\n    </tr>\n    <tr>\n      <th>5</th>\n      <td>6.0</td>\n      <td>0.922132</td>\n      <td>28.666667</td>\n    </tr>\n    <tr>\n      <th>6</th>\n      <td>7.0</td>\n      <td>0.914707</td>\n      <td>30.000000</td>\n    </tr>\n    <tr>\n      <th>7</th>\n      <td>8.0</td>\n      <td>0.917194</td>\n      <td>30.333333</td>\n    </tr>\n    <tr>\n      <th>8</th>\n      <td>9.0</td>\n      <td>0.912144</td>\n      <td>30.000000</td>\n    </tr>\n    <tr>\n      <th>9</th>\n      <td>10.0</td>\n      <td>0.907131</td>\n      <td>30.000000</td>\n    </tr>\n    <tr>\n      <th>10</th>\n      <td>11.0</td>\n      <td>0.912182</td>\n      <td>30.333333</td>\n    </tr>\n    <tr>\n      <th>11</th>\n      <td>12.0</td>\n      <td>0.924695</td>\n      <td>30.333333</td>\n    </tr>\n    <tr>\n      <th>12</th>\n      <td>13.0</td>\n      <td>0.922132</td>\n      <td>30.000000</td>\n    </tr>\n    <tr>\n      <th>13</th>\n      <td>14.0</td>\n      <td>0.912182</td>\n      <td>30.000000</td>\n    </tr>\n    <tr>\n      <th>14</th>\n      <td>15.0</td>\n      <td>0.904568</td>\n      <td>30.333333</td>\n    </tr>\n  </tbody>\n</table>\n</div>"
     },
     "metadata": {},
     "output_type": "display_data"
    },
    {
     "name": "stdout",
     "text": [
      "The best classifier was found with depth  1\nThe best classifier achieved an accuracy of  0.8947368421052632  on the test data\n"
     ],
     "output_type": "stream"
    }
   ],
   "source": [
    "# Breast cancer diagnosis\n",
    "breast_cancer = datasets.load_breast_cancer()\n",
    "breast_cancer_X = breast_cancer.data\n",
    "breast_cancer_Y = breast_cancer.target\n",
    "\n",
    "breast_cancer_X_train, breast_cancer_X_test, breast_cancer_y_train, breast_cancer_y_test = train_test_split(breast_cancer_X, breast_cancer_Y, test_size=0.3, random_state=0)\n",
    "breast_cancer_X_train, breast_cancer_X_test = scale_data(breast_cancer_X_train, breast_cancer_X_test)\n",
    "\n",
    "breast_cancer_best_tree = run_KFold_CV(breast_cancer_X_train, breast_cancer_y_train)\n",
    "test_best_tree(breast_cancer_best_tree, breast_cancer_X_test, breast_cancer_y_test)"
   ],
   "metadata": {
    "collapsed": false,
    "pycharm": {
     "name": "#%%\n",
     "is_executing": false
    }
   }
  },
  {
   "cell_type": "markdown",
   "source": [
    "### Digit Recognition"
   ],
   "metadata": {
    "collapsed": false,
    "pycharm": {
     "name": "#%% md\n"
    }
   }
  },
  {
   "cell_type": "code",
   "execution_count": 780,
   "outputs": [
    {
     "data": {
      "text/plain": "    Max_Tree_Depth  Average_Accuracy  Average_Node_Count\n0              1.0          0.189333            3.000000\n1              2.0          0.316648            7.000000\n2              3.0          0.460652           15.000000\n3              4.0          0.638794           30.333333\n4              5.0          0.709604           53.666667\n5              6.0          0.774850           84.333333\n6              7.0          0.818634          125.333333\n7              8.0          0.831344          166.333333\n8              9.0          0.836121          199.666667\n9             10.0          0.838517          220.000000\n10            11.0          0.840096          231.000000\n11            12.0          0.843279          236.666667\n12            13.0          0.839326          239.000000\n13            14.0          0.843275          240.000000\n14            15.0          0.839295          239.666667",
      "text/html": "<div>\n<style scoped>\n    .dataframe tbody tr th:only-of-type {\n        vertical-align: middle;\n    }\n\n    .dataframe tbody tr th {\n        vertical-align: top;\n    }\n\n    .dataframe thead th {\n        text-align: right;\n    }\n</style>\n<table border=\"1\" class=\"dataframe\">\n  <thead>\n    <tr style=\"text-align: right;\">\n      <th></th>\n      <th>Max_Tree_Depth</th>\n      <th>Average_Accuracy</th>\n      <th>Average_Node_Count</th>\n    </tr>\n  </thead>\n  <tbody>\n    <tr>\n      <th>0</th>\n      <td>1.0</td>\n      <td>0.189333</td>\n      <td>3.000000</td>\n    </tr>\n    <tr>\n      <th>1</th>\n      <td>2.0</td>\n      <td>0.316648</td>\n      <td>7.000000</td>\n    </tr>\n    <tr>\n      <th>2</th>\n      <td>3.0</td>\n      <td>0.460652</td>\n      <td>15.000000</td>\n    </tr>\n    <tr>\n      <th>3</th>\n      <td>4.0</td>\n      <td>0.638794</td>\n      <td>30.333333</td>\n    </tr>\n    <tr>\n      <th>4</th>\n      <td>5.0</td>\n      <td>0.709604</td>\n      <td>53.666667</td>\n    </tr>\n    <tr>\n      <th>5</th>\n      <td>6.0</td>\n      <td>0.774850</td>\n      <td>84.333333</td>\n    </tr>\n    <tr>\n      <th>6</th>\n      <td>7.0</td>\n      <td>0.818634</td>\n      <td>125.333333</td>\n    </tr>\n    <tr>\n      <th>7</th>\n      <td>8.0</td>\n      <td>0.831344</td>\n      <td>166.333333</td>\n    </tr>\n    <tr>\n      <th>8</th>\n      <td>9.0</td>\n      <td>0.836121</td>\n      <td>199.666667</td>\n    </tr>\n    <tr>\n      <th>9</th>\n      <td>10.0</td>\n      <td>0.838517</td>\n      <td>220.000000</td>\n    </tr>\n    <tr>\n      <th>10</th>\n      <td>11.0</td>\n      <td>0.840096</td>\n      <td>231.000000</td>\n    </tr>\n    <tr>\n      <th>11</th>\n      <td>12.0</td>\n      <td>0.843279</td>\n      <td>236.666667</td>\n    </tr>\n    <tr>\n      <th>12</th>\n      <td>13.0</td>\n      <td>0.839326</td>\n      <td>239.000000</td>\n    </tr>\n    <tr>\n      <th>13</th>\n      <td>14.0</td>\n      <td>0.843275</td>\n      <td>240.000000</td>\n    </tr>\n    <tr>\n      <th>14</th>\n      <td>15.0</td>\n      <td>0.839295</td>\n      <td>239.666667</td>\n    </tr>\n  </tbody>\n</table>\n</div>"
     },
     "metadata": {},
     "output_type": "display_data"
    },
    {
     "name": "stdout",
     "text": [
      "The best classifier was found with depth  4\nThe best classifier achieved an accuracy of  0.6481481481481481  on the test data\n"
     ],
     "output_type": "stream"
    }
   ],
   "source": [
    "# Digit recognition\n",
    "#manipulate data into (samples, feature) matrix\n",
    "digits = datasets.load_digits()\n",
    "digits_n_samples = len(digits.images)\n",
    "digits_X = digits.images.reshape((digits_n_samples), -1)\n",
    "digits_y = digits.target\n",
    "\n",
    "digits_X_train, digits_X_test, digits_y_train, digits_y_test = train_test_split(digits_X, digits_y, test_size=0.3, random_state=0)\n",
    "digits_X_train, digits_X_test = scale_data(digits_X_train, digits_X_test)\n",
    "\n",
    "digits_best_tree = run_KFold_CV(digits_X_train, digits_y_train)\n",
    "test_best_tree(digits_best_tree, digits_X_test, digits_y_test)\n"
   ],
   "metadata": {
    "collapsed": false,
    "pycharm": {
     "name": "#%%\n",
     "is_executing": false
    }
   }
  },
  {
   "cell_type": "markdown",
   "source": [
    "## 2 Decision trees vs linear models"
   ],
   "metadata": {
    "collapsed": false
   }
  },
  {
   "cell_type": "markdown",
   "source": [
    "Constructing the problem was"
   ],
   "metadata": {
    "collapsed": false,
    "pycharm": {
     "name": "#%% md\n"
    }
   }
  },
  {
   "cell_type": "code",
   "execution_count": 781,
   "outputs": [],
   "source": [
    "#Constructing the problem\n",
    "random.seed( 5577993311 )\n",
    "def my_problem(x):\n",
    "    return x,x*(1+random.randint(1,5)/50)\n",
    "    #return x,2*x\n",
    "\n",
    "def get_random_fail(x):\n",
    "    return x, x*(1-random.randint(1,5)/50)\n",
    "    #return x, x*0.5\n",
    "\n",
    "def create_dataset(n=100):\n",
    "    dataset_x = []\n",
    "    dataset_y = []\n",
    "    for i in range(1,n):\n",
    "        if random.randint(0,10) % 2 == 0:\n",
    "            dataset_x.append(my_problem(i))\n",
    "            dataset_y.append(1)\n",
    "        else:\n",
    "            dataset_x.append(get_random_fail(i))\n",
    "            dataset_y.append(0)\n",
    "    return dataset_x, dataset_y\n"
   ],
   "metadata": {
    "collapsed": false,
    "pycharm": {
     "name": "#%%\n",
     "is_executing": false
    }
   }
  },
  {
   "cell_type": "code",
   "execution_count": 782,
   "outputs": [
    {
     "data": {
      "text/plain": "<Figure size 432x288 with 1 Axes>",
      "image/png": "[encoded data removed]"
     },
     "metadata": {
      "needs_background": "light"
     },
     "output_type": "display_data"
    },
    {
     "data": {
      "text/plain": "<Figure size 432x288 with 1 Axes>",
      "image/png": "[encoded data removed]"
     },
     "metadata": {
      "needs_background": "light"
     },
     "output_type": "display_data"
    },
    {
     "data": {
      "text/plain": "   Dataset Size     Score\n0          25.0  1.000000\n1          50.0  1.000000\n2          75.0  1.000000\n3         100.0  1.000000\n4         125.0  0.973684\n5         150.0  0.977778\n6         175.0  1.000000\n7         200.0  1.000000",
      "text/html": "<div>\n<style scoped>\n    .dataframe tbody tr th:only-of-type {\n        vertical-align: middle;\n    }\n\n    .dataframe tbody tr th {\n        vertical-align: top;\n    }\n\n    .dataframe thead th {\n        text-align: right;\n    }\n</style>\n<table border=\"1\" class=\"dataframe\">\n  <thead>\n    <tr style=\"text-align: right;\">\n      <th></th>\n      <th>Dataset Size</th>\n      <th>Score</th>\n    </tr>\n  </thead>\n  <tbody>\n    <tr>\n      <th>0</th>\n      <td>25.0</td>\n      <td>1.000000</td>\n    </tr>\n    <tr>\n      <th>1</th>\n      <td>50.0</td>\n      <td>1.000000</td>\n    </tr>\n    <tr>\n      <th>2</th>\n      <td>75.0</td>\n      <td>1.000000</td>\n    </tr>\n    <tr>\n      <th>3</th>\n      <td>100.0</td>\n      <td>1.000000</td>\n    </tr>\n    <tr>\n      <th>4</th>\n      <td>125.0</td>\n      <td>0.973684</td>\n    </tr>\n    <tr>\n      <th>5</th>\n      <td>150.0</td>\n      <td>0.977778</td>\n    </tr>\n    <tr>\n      <th>6</th>\n      <td>175.0</td>\n      <td>1.000000</td>\n    </tr>\n    <tr>\n      <th>7</th>\n      <td>200.0</td>\n      <td>1.000000</td>\n    </tr>\n  </tbody>\n</table>\n</div>"
     },
     "metadata": {},
     "output_type": "display_data"
    },
    {
     "data": {
      "text/plain": "     Dataset Size  Max Depth     Score\n0            25.0        1.0  0.057851\n1            25.0        2.0 -0.193878\n2            25.0        3.0 -1.000000\n3            25.0        4.0 -1.000000\n4            25.0        5.0 -1.000000\n..            ...        ...       ...\n107         200.0       10.0  0.229294\n108         200.0       11.0  0.155904\n109         200.0       12.0  0.113028\n110         200.0       13.0  0.143204\n111         200.0       14.0  0.066477\n\n[112 rows x 3 columns]",
      "text/html": "<div>\n<style scoped>\n    .dataframe tbody tr th:only-of-type {\n        vertical-align: middle;\n    }\n\n    .dataframe tbody tr th {\n        vertical-align: top;\n    }\n\n    .dataframe thead th {\n        text-align: right;\n    }\n</style>\n<table border=\"1\" class=\"dataframe\">\n  <thead>\n    <tr style=\"text-align: right;\">\n      <th></th>\n      <th>Dataset Size</th>\n      <th>Max Depth</th>\n      <th>Score</th>\n    </tr>\n  </thead>\n  <tbody>\n    <tr>\n      <th>0</th>\n      <td>25.0</td>\n      <td>1.0</td>\n      <td>0.057851</td>\n    </tr>\n    <tr>\n      <th>1</th>\n      <td>25.0</td>\n      <td>2.0</td>\n      <td>-0.193878</td>\n    </tr>\n    <tr>\n      <th>2</th>\n      <td>25.0</td>\n      <td>3.0</td>\n      <td>-1.000000</td>\n    </tr>\n    <tr>\n      <th>3</th>\n      <td>25.0</td>\n      <td>4.0</td>\n      <td>-1.000000</td>\n    </tr>\n    <tr>\n      <th>4</th>\n      <td>25.0</td>\n      <td>5.0</td>\n      <td>-1.000000</td>\n    </tr>\n    <tr>\n      <th>5</th>\n      <td>25.0</td>\n      <td>6.0</td>\n      <td>-1.000000</td>\n    </tr>\n    <tr>\n      <th>6</th>\n      <td>25.0</td>\n      <td>7.0</td>\n      <td>-1.000000</td>\n    </tr>\n    <tr>\n      <th>7</th>\n      <td>25.0</td>\n      <td>8.0</td>\n      <td>-1.000000</td>\n    </tr>\n    <tr>\n      <th>8</th>\n      <td>25.0</td>\n      <td>9.0</td>\n      <td>-1.000000</td>\n    </tr>\n    <tr>\n      <th>9</th>\n      <td>25.0</td>\n      <td>10.0</td>\n      <td>-1.000000</td>\n    </tr>\n    <tr>\n      <th>10</th>\n      <td>25.0</td>\n      <td>11.0</td>\n      <td>-1.000000</td>\n    </tr>\n    <tr>\n      <th>11</th>\n      <td>25.0</td>\n      <td>12.0</td>\n      <td>-1.000000</td>\n    </tr>\n    <tr>\n      <th>12</th>\n      <td>25.0</td>\n      <td>13.0</td>\n      <td>-1.000000</td>\n    </tr>\n    <tr>\n      <th>13</th>\n      <td>25.0</td>\n      <td>14.0</td>\n      <td>-1.000000</td>\n    </tr>\n    <tr>\n      <th>14</th>\n      <td>50.0</td>\n      <td>1.0</td>\n      <td>-0.044580</td>\n    </tr>\n    <tr>\n      <th>15</th>\n      <td>50.0</td>\n      <td>2.0</td>\n      <td>-0.002834</td>\n    </tr>\n    <tr>\n      <th>16</th>\n      <td>50.0</td>\n      <td>3.0</td>\n      <td>-0.013341</td>\n    </tr>\n    <tr>\n      <th>17</th>\n      <td>50.0</td>\n      <td>4.0</td>\n      <td>-0.261111</td>\n    </tr>\n    <tr>\n      <th>18</th>\n      <td>50.0</td>\n      <td>5.0</td>\n      <td>0.096776</td>\n    </tr>\n    <tr>\n      <th>19</th>\n      <td>50.0</td>\n      <td>6.0</td>\n      <td>-0.458333</td>\n    </tr>\n    <tr>\n      <th>20</th>\n      <td>50.0</td>\n      <td>7.0</td>\n      <td>-0.944444</td>\n    </tr>\n    <tr>\n      <th>21</th>\n      <td>50.0</td>\n      <td>8.0</td>\n      <td>-0.666667</td>\n    </tr>\n    <tr>\n      <th>22</th>\n      <td>50.0</td>\n      <td>9.0</td>\n      <td>-0.666667</td>\n    </tr>\n    <tr>\n      <th>23</th>\n      <td>50.0</td>\n      <td>10.0</td>\n      <td>-0.666667</td>\n    </tr>\n    <tr>\n      <th>24</th>\n      <td>50.0</td>\n      <td>11.0</td>\n      <td>-0.944444</td>\n    </tr>\n    <tr>\n      <th>25</th>\n      <td>50.0</td>\n      <td>12.0</td>\n      <td>-0.666667</td>\n    </tr>\n    <tr>\n      <th>26</th>\n      <td>50.0</td>\n      <td>13.0</td>\n      <td>-0.666667</td>\n    </tr>\n    <tr>\n      <th>27</th>\n      <td>50.0</td>\n      <td>14.0</td>\n      <td>-0.944444</td>\n    </tr>\n    <tr>\n      <th>28</th>\n      <td>75.0</td>\n      <td>1.0</td>\n      <td>0.030601</td>\n    </tr>\n    <tr>\n      <th>29</th>\n      <td>75.0</td>\n      <td>2.0</td>\n      <td>-0.030172</td>\n    </tr>\n    <tr>\n      <th>...</th>\n      <td>...</td>\n      <td>...</td>\n      <td>...</td>\n    </tr>\n    <tr>\n      <th>82</th>\n      <td>150.0</td>\n      <td>13.0</td>\n      <td>-0.250000</td>\n    </tr>\n    <tr>\n      <th>83</th>\n      <td>150.0</td>\n      <td>14.0</td>\n      <td>-0.203704</td>\n    </tr>\n    <tr>\n      <th>84</th>\n      <td>175.0</td>\n      <td>1.0</td>\n      <td>-0.056198</td>\n    </tr>\n    <tr>\n      <th>85</th>\n      <td>175.0</td>\n      <td>2.0</td>\n      <td>-0.081604</td>\n    </tr>\n    <tr>\n      <th>86</th>\n      <td>175.0</td>\n      <td>3.0</td>\n      <td>-0.093308</td>\n    </tr>\n    <tr>\n      <th>87</th>\n      <td>175.0</td>\n      <td>4.0</td>\n      <td>-0.163393</td>\n    </tr>\n    <tr>\n      <th>88</th>\n      <td>175.0</td>\n      <td>5.0</td>\n      <td>0.159509</td>\n    </tr>\n    <tr>\n      <th>89</th>\n      <td>175.0</td>\n      <td>6.0</td>\n      <td>0.076841</td>\n    </tr>\n    <tr>\n      <th>90</th>\n      <td>175.0</td>\n      <td>7.0</td>\n      <td>0.144077</td>\n    </tr>\n    <tr>\n      <th>91</th>\n      <td>175.0</td>\n      <td>8.0</td>\n      <td>-0.055057</td>\n    </tr>\n    <tr>\n      <th>92</th>\n      <td>175.0</td>\n      <td>9.0</td>\n      <td>0.300587</td>\n    </tr>\n    <tr>\n      <th>93</th>\n      <td>175.0</td>\n      <td>10.0</td>\n      <td>-0.089895</td>\n    </tr>\n    <tr>\n      <th>94</th>\n      <td>175.0</td>\n      <td>11.0</td>\n      <td>0.316820</td>\n    </tr>\n    <tr>\n      <th>95</th>\n      <td>175.0</td>\n      <td>12.0</td>\n      <td>0.051798</td>\n    </tr>\n    <tr>\n      <th>96</th>\n      <td>175.0</td>\n      <td>13.0</td>\n      <td>-0.330709</td>\n    </tr>\n    <tr>\n      <th>97</th>\n      <td>175.0</td>\n      <td>14.0</td>\n      <td>0.154677</td>\n    </tr>\n    <tr>\n      <th>98</th>\n      <td>200.0</td>\n      <td>1.0</td>\n      <td>0.058500</td>\n    </tr>\n    <tr>\n      <th>99</th>\n      <td>200.0</td>\n      <td>2.0</td>\n      <td>0.015034</td>\n    </tr>\n    <tr>\n      <th>100</th>\n      <td>200.0</td>\n      <td>3.0</td>\n      <td>0.148651</td>\n    </tr>\n    <tr>\n      <th>101</th>\n      <td>200.0</td>\n      <td>4.0</td>\n      <td>0.197912</td>\n    </tr>\n    <tr>\n      <th>102</th>\n      <td>200.0</td>\n      <td>5.0</td>\n      <td>0.192621</td>\n    </tr>\n    <tr>\n      <th>103</th>\n      <td>200.0</td>\n      <td>6.0</td>\n      <td>0.239915</td>\n    </tr>\n    <tr>\n      <th>104</th>\n      <td>200.0</td>\n      <td>7.0</td>\n      <td>0.201714</td>\n    </tr>\n    <tr>\n      <th>105</th>\n      <td>200.0</td>\n      <td>8.0</td>\n      <td>0.107554</td>\n    </tr>\n    <tr>\n      <th>106</th>\n      <td>200.0</td>\n      <td>9.0</td>\n      <td>0.190068</td>\n    </tr>\n    <tr>\n      <th>107</th>\n      <td>200.0</td>\n      <td>10.0</td>\n      <td>0.229294</td>\n    </tr>\n    <tr>\n      <th>108</th>\n      <td>200.0</td>\n      <td>11.0</td>\n      <td>0.155904</td>\n    </tr>\n    <tr>\n      <th>109</th>\n      <td>200.0</td>\n      <td>12.0</td>\n      <td>0.113028</td>\n    </tr>\n    <tr>\n      <th>110</th>\n      <td>200.0</td>\n      <td>13.0</td>\n      <td>0.143204</td>\n    </tr>\n    <tr>\n      <th>111</th>\n      <td>200.0</td>\n      <td>14.0</td>\n      <td>0.066477</td>\n    </tr>\n  </tbody>\n</table>\n<p>112 rows × 3 columns</p>\n</div>"
     },
     "metadata": {},
     "output_type": "display_data"
    }
   ],
   "source": [
    "#\n",
    "\n",
    "ldf = pd.DataFrame(columns=['Dataset Size', 'Score'])\n",
    "tdf = pd.DataFrame(columns=['Dataset Size', 'Max Depth', 'Score'])\n",
    "for k in range(25, 201, 25):\n",
    "    x,y = create_dataset(k)\n",
    "    x_train, x_test, y_train, y_test = train_test_split(x, y, test_size=0.3, random_state=0)\n",
    "    linear = linear_model.SGDClassifier()\n",
    "    linear.fit(x_train, y_train)\n",
    "    linear_predict = linear.predict(x_test)\n",
    "    linear_predict = linear_predict.tolist()\n",
    "    #l_accuracy = accuracy_score(y_test, linear_predict)\n",
    "    l_score = linear.score(x_test, y_test)\n",
    "    ldf = ldf.append({'Dataset Size':k, 'Score':l_score}, ignore_index=True)\n",
    "    for l in range(1,15):\n",
    "        d_tree = tree.DecisionTreeRegressor(max_depth=l)\n",
    "        d_tree = d_tree.fit(x_train, y_train)\n",
    "        d_tree_predict = d_tree.predict(x_test)\n",
    "        #d_tree_accuracy = accuracy_score(y_test, d_tree_predict)\n",
    "        score = d_tree.score(x_test, y_test)\n",
    "        tdf = tdf.append({'Dataset Size':k, 'Max Depth':l,'Score':score}, ignore_index=True)\n",
    "\n",
    "x, y = create_dataset(175)\n",
    "x_train, x_test, y_train, y_test = train_test_split(x, y, test_size=0.3, random_state=0)\n",
    "d_tree = tree.DecisionTreeClassifier(max_depth=10)\n",
    "d_tree = d_tree.fit(x_train, y_train)\n",
    "d_tree_predict = d_tree.predict(x_test)\n",
    "#d_tree_accuracy = accuracy_score(y_test, d_tree_predict)\n",
    "score = d_tree.score(x_test, y_test)\n",
    "\n",
    "#PLOT THE DTREE BOUNDARY\n",
    "plot_step = 0.02\n",
    "X=x\n",
    "Y=y\n",
    "x_min, x_max = min([a for a,_ in x]), max([a for a,_ in x])\n",
    "y_min, y_max = min([a for _,a in x]), max([a for _,a in x])\n",
    "xx, yy = np.meshgrid(np.arange(x_min, x_max, plot_step),\n",
    "np.arange(y_min, y_max, plot_step))\n",
    "plt.tight_layout(h_pad=0.5, w_pad=0.5, pad=2.5)\n",
    "Z = d_tree.predict(np.c_[xx.ravel(), yy.ravel()])\n",
    "Z = Z.reshape(xx.shape)\n",
    "cs = plt.contourf(xx, yy, Z, cmap=plt.cm.RdYlBu)\n",
    "\n",
    "#Plot points\n",
    "i,j = range(1,50,1), range(2,100,2) \n",
    "plt.scatter([a for a,_ in x], [a for _,a in x], color='black')\n",
    "plt.plot(i,i, color='blue')\n",
    "plt.xticks()\n",
    "plt.yticks()\n",
    "plt.figure()\n",
    "plot_tree(d_tree, filled=True)\n",
    "plt.show()\n",
    "\n",
    "\n",
    "\n",
    "display(ldf)\n",
    "display(tdf)\n",
    "        #print(score)"
   ],
   "metadata": {
    "collapsed": false,
    "pycharm": {
     "name": "#%%\n",
     "is_executing": false
    }
   }
  },
  {
   "cell_type": "markdown",
   "source": [
    "## 3 Regression on mixed data types"
   ],
   "metadata": {
    "collapsed": false
   }
  }
 ],
 "metadata": {
  "language_info": {
   "codemirror_mode": {
    "name": "ipython",
    "version": 2
   },
   "file_extension": ".py",
   "mimetype": "text/x-python",
   "name": "python",
   "nbconvert_exporter": "python",
   "pygments_lexer": "ipython2",
   "version": "2.7.6"
  },
  "kernelspec": {
   "name": "python3",
   "language": "python",
   "display_name": "Python 3"
  },
  "pycharm": {
   "stem_cell": {
    "cell_type": "raw",
    "source": [],
    "metadata": {
     "collapsed": false
    }
   }
  }
 },
 "nbformat": 4,
 "nbformat_minor": 0
}