{
 "cells": [
  {
   "cell_type": "markdown",
   "source": [
    "# 401 Assignment 1"
   ],
   "metadata": {
    "collapsed": false,
    "pycharm": {
     "name": "#%% md\n"
    }
   }
  },
  {
   "cell_type": "markdown",
   "source": [
    "## 1 Tuning Hyper-parameters"
   ],
   "metadata": {
    "collapsed": false,
    "pycharm": {
     "name": "#%% md\n"
    }
   }
  },
  {
   "cell_type": "code",
   "execution_count": 221,
   "outputs": [],
   "source": [
    "#imports\n",
    "import pandas as pd\n",
    "from sklearn import datasets, tree\n",
    "from sklearn.model_selection import train_test_split, KFold\n",
    "from IPython.display import display\n",
    "from sklearn.preprocessing import StandardScaler"
   ],
   "metadata": {
    "collapsed": false,
    "pycharm": {
     "name": "#%%\n",
     "is_executing": false
    }
   }
  },
  {
   "cell_type": "markdown",
   "source": [
    "Several helper functions were created:\n",
    "- get_average \n",
    " - Simply returns the average result of a list\n",
    "- scale_data\n",
    " - A small wrapper function for scaling data appropriately using sklearn's StandardScaler\n",
    "- is_improvement\n",
    " - A function that calculates if the next iteration of the max_depth is a valid improvement. The formula requires that for any 1 increase in the average number of nodes, there should be at least a 1% in accuracy."
   ],
   "metadata": {
    "collapsed": false,
    "pycharm": {
     "name": "#%% md\n"
    }
   }
  },
  {
   "cell_type": "code",
   "execution_count": 222,
   "outputs": [],
   "source": [
    "# helper functions\n",
    "\n",
    "def get_average(arr):#returns the average of a python list\n",
    "    s = 0\n",
    "    for a in arr:\n",
    "        s = s + a\n",
    "    avg = s/len(arr)\n",
    "    return avg\n",
    "\n",
    "def scale_data(xtrain, xtest):#scales data using sklearns standard scaler\n",
    "    feature_scaler = StandardScaler()\n",
    "    return feature_scaler.fit_transform(xtrain), feature_scaler.transform(xtest)\n",
    "\n",
    "def is_improvement(prev_accuracy, prev_num_nodes, current_accuracy, current_num_nodes):\n",
    "    if (prev_accuracy is 0) and (prev_num_nodes is 0):\n",
    "        return True\n",
    "    prev_accuracy = prev_accuracy*100\n",
    "    current_accuracy = current_accuracy*100\n",
    "    accuracy_improvement = current_accuracy - prev_accuracy\n",
    "    if accuracy_improvement<=0:\n",
    "        return False\n",
    "    node_delta = current_num_nodes - prev_num_nodes\n",
    "    if accuracy_improvement < node_delta:\n",
    "        return False\n",
    "    return True\n",
    "    "
   ],
   "metadata": {
    "collapsed": false,
    "pycharm": {
     "name": "#%% \n",
     "is_executing": false
    }
   }
  },
  {
   "cell_type": "markdown",
   "source": [
    "The k-fold cross validation was contained within a method.<br/>\n",
    "This method takes the training data, as well as some optional parameters relating to the k-fold itself <br/>\n",
    "The method works through max depths of 1 to 15<br/>\n",
    "to achieve this the method runs a for loop through each depth in which it defines a new DecisionTreeClasifier. This DT is then KFolded and each set of test and training data within the k-fold is fitted to the tree, with the accuracy and number of nodes recorded. <br/>\n",
    "For each max depth this is average and used to check if the classifier is a valid improvement.<br>\n",
    "The method finally displays a dataframe and returns the best classifier"
   ],
   "metadata": {
    "collapsed": false
   }
  },
  {
   "cell_type": "code",
   "execution_count": 223,
   "outputs": [],
   "source": [
    "#KFold CV Method\n",
    "def run_KFold_CV(XTrainKF, yTrainKF, n_splits=6, random_state = 0, shuffle = False):\n",
    "    df = pd.DataFrame(columns=['Max_Tree_Depth', 'Average_Accuracy', 'Average_Node_Count'])\n",
    "    depths = [1,2,3,4,5,6,7,8,9,10,11,12,13,14,15]\n",
    "    prev_avg_accuracy = 0\n",
    "    prev_num_nodes = 0\n",
    "    for depth in depths:\n",
    "        kf_tree = tree.DecisionTreeClassifier(max_depth=depth)\n",
    "        kf = KFold(n_splits=n_splits, random_state=random_state, shuffle=shuffle)\n",
    "        accuracy = []\n",
    "        num_nodes = []\n",
    "        for train_index, test_index in kf.split(XTrainKF):\n",
    "            x_train, x_test = XTrainKF[train_index], XTrainKF[test_index]\n",
    "            y_train, y_test = yTrainKF[train_index], yTrainKF[test_index]\n",
    "            kf_tree = kf_tree.fit(x_train, y_train)\n",
    "            predictions = kf_tree.predict(x_test)\n",
    "            accuracy.append(kf_tree.score(x_test, y_test))\n",
    "            num_nodes.append(kf_tree.tree_.node_count)\n",
    "            acc_avg = get_average(accuracy)\n",
    "            num_nodes_avg = get_average(num_nodes)\n",
    "        df = df.append({'Max_Tree_Depth':depth, 'Average_Accuracy':acc_avg, 'Average_Node_Count': num_nodes_avg}, ignore_index=True)\n",
    "        if is_improvement(prev_avg_accuracy, prev_num_nodes, acc_avg, num_nodes_avg):\n",
    "            prev_avg_accuracy, prev_num_nodes = acc_avg, num_nodes_avg\n",
    "            best_depth = depth\n",
    "            best_tree = kf_tree\n",
    "    display(df)\n",
    "    print(\"The best classifier was found with depth \", best_depth)\n",
    "    return best_tree\n",
    "\n",
    "def test_best_tree(best_tree, x_test, y_test):\n",
    "    predictions = best_tree.predict(x_test)\n",
    "    accuracy = best_tree.score(x_test, y_test)\n",
    "    print(\"The best classifier achieved an accuracy of \", accuracy, \" on the test data\")\n",
    " "
   ],
   "metadata": {
    "collapsed": false,
    "pycharm": {
     "name": "#%%\n",
     "is_executing": false
    }
   }
  },
  {
   "cell_type": "markdown",
   "source": [
    "### Iris plant recognition"
   ],
   "metadata": {
    "collapsed": false
   }
  },
  {
   "cell_type": "code",
   "execution_count": 224,
   "outputs": [
    {
     "data": {
      "text/plain": "    Max_Tree_Depth  Average_Accuracy  Average_Node_Count\n0              1.0          0.611111            3.000000\n1              2.0          0.924292            5.000000\n2              3.0          0.961874            8.333333\n3              4.0          0.942810           11.333333\n4              5.0          0.942810           11.333333\n5              6.0          0.942810           11.666667\n6              7.0          0.942810           11.666667\n7              8.0          0.942810           11.666667\n8              9.0          0.942810           11.666667\n9             10.0          0.942810           11.666667\n10            11.0          0.942810           11.666667\n11            12.0          0.942810           11.666667\n12            13.0          0.942810           11.666667\n13            14.0          0.942810           11.333333\n14            15.0          0.942810           11.666667",
      "text/html": "<div>\n<style scoped>\n    .dataframe tbody tr th:only-of-type {\n        vertical-align: middle;\n    }\n\n    .dataframe tbody tr th {\n        vertical-align: top;\n    }\n\n    .dataframe thead th {\n        text-align: right;\n    }\n</style>\n<table border=\"1\" class=\"dataframe\">\n  <thead>\n    <tr style=\"text-align: right;\">\n      <th></th>\n      <th>Max_Tree_Depth</th>\n      <th>Average_Accuracy</th>\n      <th>Average_Node_Count</th>\n    </tr>\n  </thead>\n  <tbody>\n    <tr>\n      <th>0</th>\n      <td>1.0</td>\n      <td>0.611111</td>\n      <td>3.000000</td>\n    </tr>\n    <tr>\n      <th>1</th>\n      <td>2.0</td>\n      <td>0.924292</td>\n      <td>5.000000</td>\n    </tr>\n    <tr>\n      <th>2</th>\n      <td>3.0</td>\n      <td>0.961874</td>\n      <td>8.333333</td>\n    </tr>\n    <tr>\n      <th>3</th>\n      <td>4.0</td>\n      <td>0.942810</td>\n      <td>11.333333</td>\n    </tr>\n    <tr>\n      <th>4</th>\n      <td>5.0</td>\n      <td>0.942810</td>\n      <td>11.333333</td>\n    </tr>\n    <tr>\n      <th>5</th>\n      <td>6.0</td>\n      <td>0.942810</td>\n      <td>11.666667</td>\n    </tr>\n    <tr>\n      <th>6</th>\n      <td>7.0</td>\n      <td>0.942810</td>\n      <td>11.666667</td>\n    </tr>\n    <tr>\n      <th>7</th>\n      <td>8.0</td>\n      <td>0.942810</td>\n      <td>11.666667</td>\n    </tr>\n    <tr>\n      <th>8</th>\n      <td>9.0</td>\n      <td>0.942810</td>\n      <td>11.666667</td>\n    </tr>\n    <tr>\n      <th>9</th>\n      <td>10.0</td>\n      <td>0.942810</td>\n      <td>11.666667</td>\n    </tr>\n    <tr>\n      <th>10</th>\n      <td>11.0</td>\n      <td>0.942810</td>\n      <td>11.666667</td>\n    </tr>\n    <tr>\n      <th>11</th>\n      <td>12.0</td>\n      <td>0.942810</td>\n      <td>11.666667</td>\n    </tr>\n    <tr>\n      <th>12</th>\n      <td>13.0</td>\n      <td>0.942810</td>\n      <td>11.666667</td>\n    </tr>\n    <tr>\n      <th>13</th>\n      <td>14.0</td>\n      <td>0.942810</td>\n      <td>11.333333</td>\n    </tr>\n    <tr>\n      <th>14</th>\n      <td>15.0</td>\n      <td>0.942810</td>\n      <td>11.666667</td>\n    </tr>\n  </tbody>\n</table>\n</div>"
     },
     "metadata": {},
     "output_type": "display_data"
    },
    {
     "name": "stdout",
     "text": [
      "The best classifier was found with depth  3\nThe best classifier achieved an accuracy of  0.9777777777777777  on the test data\n"
     ],
     "output_type": "stream"
    }
   ],
   "source": [
    "# Iris plant recognition  \n",
    "iris = datasets.load_iris()\n",
    "iris_X = iris.data\n",
    "iris_Y = iris.target\n",
    "\n",
    "iris_X_train, iris_X_test, iris_y_train, iris_y_test = train_test_split(iris_X, iris_Y, test_size=0.3, random_state=0)\n",
    "iris_X_train, iris_X_test = scale_data(iris_X_train, iris_X_test)\n",
    "\n",
    "iris_best_tree = run_KFold_CV(iris_X_train, iris_y_train)\n",
    "test_best_tree(iris_best_tree, iris_X_test, iris_y_test)"
   ],
   "metadata": {
    "collapsed": false,
    "pycharm": {
     "name": "#%%\n",
     "is_executing": false
    }
   }
  },
  {
   "cell_type": "markdown",
   "source": [
    "### Breast cancer diagnosis"
   ],
   "metadata": {
    "collapsed": false,
    "pycharm": {
     "name": "#%% md\n"
    }
   }
  },
  {
   "cell_type": "code",
   "execution_count": 225,
   "outputs": [
    {
     "data": {
      "text/plain": "    Max_Tree_Depth  Average_Accuracy  Average_Node_Count\n0              1.0          0.909543            3.000000\n1              2.0          0.907131            7.000000\n2              3.0          0.929670           14.000000\n3              4.0          0.924732           21.000000\n4              5.0          0.922207           27.000000\n5              6.0          0.919720           29.000000\n6              7.0          0.922169           29.666667\n7              8.0          0.912219           30.333333\n8              9.0          0.909619           30.333333\n9             10.0          0.914518           30.333333\n10            11.0          0.914631           30.000000\n11            12.0          0.909656           30.000000\n12            13.0          0.924619           30.333333\n13            14.0          0.914669           30.000000\n14            15.0          0.907131           30.333333",
      "text/html": "<div>\n<style scoped>\n    .dataframe tbody tr th:only-of-type {\n        vertical-align: middle;\n    }\n\n    .dataframe tbody tr th {\n        vertical-align: top;\n    }\n\n    .dataframe thead th {\n        text-align: right;\n    }\n</style>\n<table border=\"1\" class=\"dataframe\">\n  <thead>\n    <tr style=\"text-align: right;\">\n      <th></th>\n      <th>Max_Tree_Depth</th>\n      <th>Average_Accuracy</th>\n      <th>Average_Node_Count</th>\n    </tr>\n  </thead>\n  <tbody>\n    <tr>\n      <th>0</th>\n      <td>1.0</td>\n      <td>0.909543</td>\n      <td>3.000000</td>\n    </tr>\n    <tr>\n      <th>1</th>\n      <td>2.0</td>\n      <td>0.907131</td>\n      <td>7.000000</td>\n    </tr>\n    <tr>\n      <th>2</th>\n      <td>3.0</td>\n      <td>0.929670</td>\n      <td>14.000000</td>\n    </tr>\n    <tr>\n      <th>3</th>\n      <td>4.0</td>\n      <td>0.924732</td>\n      <td>21.000000</td>\n    </tr>\n    <tr>\n      <th>4</th>\n      <td>5.0</td>\n      <td>0.922207</td>\n      <td>27.000000</td>\n    </tr>\n    <tr>\n      <th>5</th>\n      <td>6.0</td>\n      <td>0.919720</td>\n      <td>29.000000</td>\n    </tr>\n    <tr>\n      <th>6</th>\n      <td>7.0</td>\n      <td>0.922169</td>\n      <td>29.666667</td>\n    </tr>\n    <tr>\n      <th>7</th>\n      <td>8.0</td>\n      <td>0.912219</td>\n      <td>30.333333</td>\n    </tr>\n    <tr>\n      <th>8</th>\n      <td>9.0</td>\n      <td>0.909619</td>\n      <td>30.333333</td>\n    </tr>\n    <tr>\n      <th>9</th>\n      <td>10.0</td>\n      <td>0.914518</td>\n      <td>30.333333</td>\n    </tr>\n    <tr>\n      <th>10</th>\n      <td>11.0</td>\n      <td>0.914631</td>\n      <td>30.000000</td>\n    </tr>\n    <tr>\n      <th>11</th>\n      <td>12.0</td>\n      <td>0.909656</td>\n      <td>30.000000</td>\n    </tr>\n    <tr>\n      <th>12</th>\n      <td>13.0</td>\n      <td>0.924619</td>\n      <td>30.333333</td>\n    </tr>\n    <tr>\n      <th>13</th>\n      <td>14.0</td>\n      <td>0.914669</td>\n      <td>30.000000</td>\n    </tr>\n    <tr>\n      <th>14</th>\n      <td>15.0</td>\n      <td>0.907131</td>\n      <td>30.333333</td>\n    </tr>\n  </tbody>\n</table>\n</div>"
     },
     "metadata": {},
     "output_type": "display_data"
    },
    {
     "name": "stdout",
     "text": [
      "The best classifier was found with depth  1\nThe best classifier achieved an accuracy of  0.8947368421052632  on the test data\n"
     ],
     "output_type": "stream"
    }
   ],
   "source": [
    "# Breast cancer diagnosis\n",
    "breast_cancer = datasets.load_breast_cancer()\n",
    "breast_cancer_X = breast_cancer.data\n",
    "breast_cancer_Y = breast_cancer.target\n",
    "\n",
    "breast_cancer_X_train, breast_cancer_X_test, breast_cancer_y_train, breast_cancer_y_test = train_test_split(breast_cancer_X, breast_cancer_Y, test_size=0.3, random_state=0)\n",
    "breast_cancer_X_train, breast_cancer_X_test = scale_data(breast_cancer_X_train, breast_cancer_X_test)\n",
    "\n",
    "breast_cancer_best_tree = run_KFold_CV(breast_cancer_X_train, breast_cancer_y_train)\n",
    "test_best_tree(breast_cancer_best_tree, breast_cancer_X_test, breast_cancer_y_test)"
   ],
   "metadata": {
    "collapsed": false,
    "pycharm": {
     "name": "#%%\n",
     "is_executing": false
    }
   }
  },
  {
   "cell_type": "markdown",
   "source": [
    "### Digit Recognition"
   ],
   "metadata": {
    "collapsed": false,
    "pycharm": {
     "name": "#%% md\n"
    }
   }
  },
  {
   "cell_type": "code",
   "execution_count": 226,
   "outputs": [
    {
     "data": {
      "text/plain": "    Max_Tree_Depth  Average_Accuracy  Average_Node_Count\n0              1.0          0.189333            3.000000\n1              2.0          0.316648            7.000000\n2              3.0          0.460652           15.000000\n3              4.0          0.640385           30.333333\n4              5.0          0.709604           53.666667\n5              6.0          0.772454           84.666667\n6              7.0          0.816238          125.333333\n7              8.0          0.830538          166.333333\n8              9.0          0.843271          200.000000\n9             10.0          0.842500          220.000000\n10            11.0          0.840909          231.000000\n11            12.0          0.838498          237.000000\n12            13.0          0.839303          239.333333\n13            14.0          0.834545          239.666667\n14            15.0          0.836918          239.666667",
      "text/html": "<div>\n<style scoped>\n    .dataframe tbody tr th:only-of-type {\n        vertical-align: middle;\n    }\n\n    .dataframe tbody tr th {\n        vertical-align: top;\n    }\n\n    .dataframe thead th {\n        text-align: right;\n    }\n</style>\n<table border=\"1\" class=\"dataframe\">\n  <thead>\n    <tr style=\"text-align: right;\">\n      <th></th>\n      <th>Max_Tree_Depth</th>\n      <th>Average_Accuracy</th>\n      <th>Average_Node_Count</th>\n    </tr>\n  </thead>\n  <tbody>\n    <tr>\n      <th>0</th>\n      <td>1.0</td>\n      <td>0.189333</td>\n      <td>3.000000</td>\n    </tr>\n    <tr>\n      <th>1</th>\n      <td>2.0</td>\n      <td>0.316648</td>\n      <td>7.000000</td>\n    </tr>\n    <tr>\n      <th>2</th>\n      <td>3.0</td>\n      <td>0.460652</td>\n      <td>15.000000</td>\n    </tr>\n    <tr>\n      <th>3</th>\n      <td>4.0</td>\n      <td>0.640385</td>\n      <td>30.333333</td>\n    </tr>\n    <tr>\n      <th>4</th>\n      <td>5.0</td>\n      <td>0.709604</td>\n      <td>53.666667</td>\n    </tr>\n    <tr>\n      <th>5</th>\n      <td>6.0</td>\n      <td>0.772454</td>\n      <td>84.666667</td>\n    </tr>\n    <tr>\n      <th>6</th>\n      <td>7.0</td>\n      <td>0.816238</td>\n      <td>125.333333</td>\n    </tr>\n    <tr>\n      <th>7</th>\n      <td>8.0</td>\n      <td>0.830538</td>\n      <td>166.333333</td>\n    </tr>\n    <tr>\n      <th>8</th>\n      <td>9.0</td>\n      <td>0.843271</td>\n      <td>200.000000</td>\n    </tr>\n    <tr>\n      <th>9</th>\n      <td>10.0</td>\n      <td>0.842500</td>\n      <td>220.000000</td>\n    </tr>\n    <tr>\n      <th>10</th>\n      <td>11.0</td>\n      <td>0.840909</td>\n      <td>231.000000</td>\n    </tr>\n    <tr>\n      <th>11</th>\n      <td>12.0</td>\n      <td>0.838498</td>\n      <td>237.000000</td>\n    </tr>\n    <tr>\n      <th>12</th>\n      <td>13.0</td>\n      <td>0.839303</td>\n      <td>239.333333</td>\n    </tr>\n    <tr>\n      <th>13</th>\n      <td>14.0</td>\n      <td>0.834545</td>\n      <td>239.666667</td>\n    </tr>\n    <tr>\n      <th>14</th>\n      <td>15.0</td>\n      <td>0.836918</td>\n      <td>239.666667</td>\n    </tr>\n  </tbody>\n</table>\n</div>"
     },
     "metadata": {},
     "output_type": "display_data"
    },
    {
     "name": "stdout",
     "text": [
      "The best classifier was found with depth  4\nThe best classifier achieved an accuracy of  0.65  on the test data\n"
     ],
     "output_type": "stream"
    }
   ],
   "source": [
    "# Digit recognition\n",
    "#manipulate data into (samples, feature) matrix\n",
    "digits = datasets.load_digits()\n",
    "digits_n_samples = len(digits.images)\n",
    "digits_X = digits.images.reshape((digits_n_samples), -1)\n",
    "digits_y = digits.target\n",
    "\n",
    "digits_X_train, digits_X_test, digits_y_train, digits_y_test = train_test_split(digits_X, digits_y, test_size=0.3, random_state=0)\n",
    "digits_X_train, digits_X_test = scale_data(digits_X_train, digits_X_test)\n",
    "\n",
    "digits_best_tree = run_KFold_CV(digits_X_train, digits_y_train)\n",
    "test_best_tree(digits_best_tree, digits_X_test, digits_y_test)\n"
   ],
   "metadata": {
    "collapsed": false,
    "pycharm": {
     "name": "#%%\n",
     "is_executing": false
    }
   }
  },
  {
   "cell_type": "markdown",
   "source": [
    "## 2 Decision trees vs linear models\n"
   ],
   "metadata": {
    "collapsed": false
   }
  },
  {
   "cell_type": "markdown",
   "source": [
    "## 3 Regression on mixed data types"
   ],
   "metadata": {
    "collapsed": false
   }
  }
 ],
 "metadata": {
  "language_info": {
   "codemirror_mode": {
    "name": "ipython",
    "version": 2
   },
   "file_extension": ".py",
   "mimetype": "text/x-python",
   "name": "python",
   "nbconvert_exporter": "python",
   "pygments_lexer": "ipython2",
   "version": "2.7.6"
  },
  "kernelspec": {
   "name": "python3",
   "language": "python",
   "display_name": "Python 3"
  },
  "pycharm": {
   "stem_cell": {
    "cell_type": "raw",
    "source": [],
    "metadata": {
     "collapsed": false
    }
   }
  }
 },
 "nbformat": 4,
 "nbformat_minor": 0
}